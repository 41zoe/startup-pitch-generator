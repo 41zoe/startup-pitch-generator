{
 "cells": [
  {
   "cell_type": "code",
   "execution_count": 1,
   "metadata": {},
   "outputs": [
    {
     "name": "stdout",
     "output_type": "stream",
     "text": [
      "Hello World!\n"
     ]
    }
   ],
   "source": [
    "print(\"Hello World!\")"
   ]
  },
  {
   "cell_type": "code",
   "execution_count": null,
   "metadata": {},
   "outputs": [
    {
     "ename": "SyntaxError",
     "evalue": "invalid syntax (111878335.py, line 36)",
     "output_type": "error",
     "traceback": [
      "\u001b[1;36m  Cell \u001b[1;32mIn[4], line 36\u001b[1;36m\u001b[0m\n\u001b[1;33m    streamlit run app.py\u001b[0m\n\u001b[1;37m              ^\u001b[0m\n\u001b[1;31mSyntaxError\u001b[0m\u001b[1;31m:\u001b[0m invalid syntax\n"
     ]
    }
   ],
   "source": [
    "#pip install openai streamlit\n",
    "\n",
    "import openai\n",
    "import streamlit as st\n",
    "\n",
    "# Load API key from secrets\n",
    "openai.api_key = st.secrets[\"OPENAI_API_KEY\"]\n",
    "\n",
    "# App title\n",
    "st.title(\"😈PitchWhiz - Silly Startup Pitch Generator\")\n",
    "st.caption(\"Turn any idea into a ridiculous, investor-ready pitch!\")\n",
    "\n",
    "# Input field\n",
    "idea = st.text_input(\"What's your startup idea?\", \"AI-powered bubble tea robot\")\n",
    "\n",
    "# Button\n",
    "if st.button(\"Generate Pitch\"):\n",
    "    prompt = f\"\"\"Create a hilarious but convincing startup pitch for this idea: {idea}.\n",
    "    Use buzzwords like AI, synergy, blockchain, disruptive, etc. Keep it short and startup-style.\"\"\"\n",
    "\n",
    "    response = openai.ChatCompletion.create(\n",
    "        model=\"gpt-3.5-turbo\",\n",
    "        messages=[\n",
    "            {\"role\": \"user\", \"content\": prompt}\n",
    "        ],\n",
    "        temperature=0.9,\n",
    "        max_tokens=200\n",
    "    )\n",
    "\n",
    "    pitch = response['choices'][0]['message']['content'].strip()\n",
    "    \n",
    "    st.markdown(\"### 🧠 Here's your pitch:\")\n",
    "    st.write(pitch)\n"
   ]
  },
  {
   "cell_type": "code",
   "execution_count": null,
   "metadata": {},
   "outputs": [
    {
     "ename": "SyntaxError",
     "evalue": "invalid syntax (3737097518.py, line 1)",
     "output_type": "error",
     "traceback": [
      "\u001b[1;36m  Cell \u001b[1;32mIn[3], line 1\u001b[1;36m\u001b[0m\n\u001b[1;33m    streamlit run app.py\u001b[0m\n\u001b[1;37m              ^\u001b[0m\n\u001b[1;31mSyntaxError\u001b[0m\u001b[1;31m:\u001b[0m invalid syntax\n"
     ]
    }
   ],
   "source": []
  }
 ],
 "metadata": {
  "kernelspec": {
   "display_name": "base",
   "language": "python",
   "name": "python3"
  },
  "language_info": {
   "codemirror_mode": {
    "name": "ipython",
    "version": 3
   },
   "file_extension": ".py",
   "mimetype": "text/x-python",
   "name": "python",
   "nbconvert_exporter": "python",
   "pygments_lexer": "ipython3",
   "version": "3.12.4"
  }
 },
 "nbformat": 4,
 "nbformat_minor": 2
}
